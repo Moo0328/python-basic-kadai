{
  "nbformat": 4,
  "nbformat_minor": 0,
  "metadata": {
    "colab": {
      "provenance": []
    },
    "kernelspec": {
      "name": "python3",
      "display_name": "Python 3"
    },
    "language_info": {
      "name": "python"
    }
  },
  "cells": [
    {
      "cell_type": "code",
      "source": [
        "class Human:\n",
        "    def __init__(self, name, age):\n",
        "        self.name = name\n",
        "        self.age = age\n",
        "    def check_adult(self):\n",
        "        if self.age >= 20:\n",
        "            print(f\"{self.name}は大人です。\")\n",
        "        else:\n",
        "            print(f\"{self.name}は大人ではありません。\")\n",
        "\n",
        "student = [Human(\"Taro\", 19), Human(\"Hanako\", 20), Human(\"Tom\", 21)]\n",
        "\n",
        "for i in student:\n",
        "    i.check_adult()"
      ],
      "metadata": {
        "colab": {
          "base_uri": "https://localhost:8080/"
        },
        "id": "IwQWsiVDlJOZ",
        "outputId": "9415da95-107d-42f4-f052-c8ff45b53dcf"
      },
      "execution_count": 9,
      "outputs": [
        {
          "output_type": "stream",
          "name": "stdout",
          "text": [
            "Taroは大人ではありません。\n",
            "Hanakoは大人です。\n",
            "Tomは大人です。\n"
          ]
        }
      ]
    }
  ]
}